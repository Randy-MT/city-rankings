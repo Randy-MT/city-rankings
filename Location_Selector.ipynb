{
 "cells": [
  {
   "cell_type": "code",
   "execution_count": 1,
   "id": "f588c6e6-d4e5-4f08-a27e-b47270caafcc",
   "metadata": {
    "scrolled": true
   },
   "outputs": [],
   "source": [
    "import pandas as pd\n",
    "import numpy as np\n",
    "\n",
    "from IPython.core.display import display, HTML\n",
    "#display(HTML(\"<style>.jp-CodeCell.jp-mod-outputsScrolled .jp-Cell-outputArea { max-height: 40em; }</style>\"))\n",
    "import ipywidgets as widgets\n",
    "from ipywidgets import interact, interactive, interact_manual\n",
    "\n",
    "from sklearn.preprocessing import StandardScaler\n",
    "scaler = StandardScaler()\n",
    "\n",
    "import os\n",
    "os.chdir(r\"C:\\Users\\randy\\OneDrive\\Desktop\\School_project\")\n",
    "pd.set_option(\"display.max_rows\", None, \"display.max_columns\", None)\n",
    "\n",
    "import warnings\n",
    "warnings.filterwarnings(\"ignore\")"
   ]
  },
  {
   "cell_type": "markdown",
   "id": "dc8035df-970d-47c7-bf1b-512a358e9c98",
   "metadata": {},
   "source": [
    "## Household Income\n",
    "https://ofm.wa.gov/washington-data-research/economy-and-labor-force/median-household-income-estimates"
   ]
  },
  {
   "cell_type": "code",
   "execution_count": 2,
   "id": "0f09d48f-9d26-41bc-9415-decf0505a9e7",
   "metadata": {
    "scrolled": true
   },
   "outputs": [],
   "source": [
    "income_df = pd.read_excel(\"median_household_income_estimates.xlsx\",dtype = 'string')"
   ]
  },
  {
   "cell_type": "code",
   "execution_count": 3,
   "id": "5195f95e-e439-4b49-b01b-61bab5361032",
   "metadata": {
    "scrolled": true
   },
   "outputs": [],
   "source": [
    "features = [2020]\n",
    "income_df = income_df.set_index('County')\n",
    "income_df = income_df[features]\n",
    "income_df.dropna(inplace=True, axis=0)\n",
    "income_df.columns = ['Household_Income']\n",
    "income_df.Household_Income = pd.to_numeric(income_df.Household_Income)\n",
    "income_df.Household_Income = round(income_df.Household_Income )\n",
    "\n",
    "income_mean = np.percentile(income_df['Household_Income'],35)\n",
    "income_df = income_df[income_df['Household_Income'] >=income_mean]\n",
    "income_df = income_df.Household_Income"
   ]
  },
  {
   "cell_type": "markdown",
   "id": "34dd206c-4330-4cf0-8e29-134b926a919e",
   "metadata": {},
   "source": [
    "## Housing Metrics\n",
    "https://www.redfin.com/news/data-center/"
   ]
  },
  {
   "cell_type": "code",
   "execution_count": 4,
   "id": "51f07132-8d32-49ba-88b2-978f2a52ae43",
   "metadata": {
    "scrolled": true
   },
   "outputs": [],
   "source": [
    "#home_df = pd.read_csv(r\"C:\\Users\\randy\\OneDrive\\Desktop\\School_project\\city_market_tracker.tsv000\\city_market_tracker.tsv\",sep='\\t',header=0)\n",
    "home_df = pd.read_csv(\"Washington_Home_Values.csv\", dtype = 'string') "
   ]
  },
  {
   "cell_type": "code",
   "execution_count": 5,
   "id": "5b083768-e325-484f-b4d1-625b650f7f56",
   "metadata": {
    "scrolled": true
   },
   "outputs": [],
   "source": [
    "Richland = ['Richland',412500.00,0,0,0]\n",
    "Kennewick = ['Kennewick',387083.00,0,0,0]\n",
    "Pasco = ['Pasco',387083.00,0,0,0]\n",
    "WallaWalla = ['Walla Walla',377083.00,0,0,0]\n",
    "WestRichland = ['West Richland',446000.00,0,0,0]\n",
    "Pullman = ['Pullman',387083.00,0,0,0]\n",
    "Prosser = ['Prosser',362000.00,0,0,0]\n",
    "BentonCity = ['Benton City',368000.00,0,0,0]\n",
    "\n",
    "missing_list = [Richland, Kennewick, Pasco, WallaWalla, WestRichland, Pullman, Prosser, BentonCity]\n",
    "\n",
    "\n",
    "home_features = ['City','median_sale_price','median_sale_price_mom','median_dom']\n",
    "data_range = '2021-01-01|2021-02-01|2021-03-01|2021-04-01|2021-05-01|2021-06-01|2021-07-01|2021-08-01|2021-09-01|2021-10-01'\n",
    "\n",
    "home_df.rename(columns={'city' : 'City'}, inplace=True)  ## channge city to conform with other datasets\n",
    "home_df = home_df[home_df.period_begin.str.contains(data_range)] ## Select latest date\n",
    "home_df = home_df[home_df.property_type.str.contains('Single Family Residential')]\n",
    "\n",
    "home_df.dropna(inplace=True)\n",
    "\n",
    "## Convert numeric data types\n",
    "home_df.median_sale_price = home_df.median_sale_price.astype(float)\n",
    "home_df.median_sale_price_mom = home_df.median_sale_price_mom.astype(float)\n",
    "home_df.median_ppsf= home_df.median_ppsf.astype(float)\n",
    "home_df.median_dom= home_df.median_dom.astype(float)\n",
    "\n",
    "## Group to find median of date range\n",
    "median_p = home_df.groupby(['City'])['median_sale_price'].median()\n",
    "median_p_mom = home_df.groupby(['City'])['median_sale_price_mom'].median()\n",
    "median_ppsf = home_df.groupby(['City'])['median_ppsf'].median()\n",
    "median_dom = home_df.groupby(['City'])['median_dom'].median()\n",
    "\n",
    "## Combine The DataFrames\n",
    "home_df = pd.concat([median_p,median_p_mom, median_ppsf, median_dom], axis = 1)\n",
    "home_df = home_df.groupby(['City']).first()\n",
    "home_df.reset_index(inplace = True)\n",
    "\n",
    "## Append missing city values\n",
    "home_df = home_df.append(pd.DataFrame(missing_list, columns=list(home_df)))\n",
    "\n",
    "## Fill missing Values with median of columns\n",
    "home_df = home_df.mask(home_df==0).fillna(home_df.median())\n",
    "\n",
    "## Trim The Features\n",
    "home_df = home_df[home_features]\n",
    "home_df.sort_values(by=['median_sale_price'], ascending = False, inplace=True)\n",
    "home_df.reset_index(inplace=True)\n"
   ]
  },
  {
   "cell_type": "markdown",
   "id": "73e502d8-ce37-451c-9b0a-de89dd9ae504",
   "metadata": {},
   "source": [
    "## School Directory\n",
    "https://eds.ospi.k12.wa.us/DirectoryEDS.aspx"
   ]
  },
  {
   "cell_type": "code",
   "execution_count": 6,
   "id": "20a1cf8b-3f46-4af7-bcc2-d46d4a4236c0",
   "metadata": {
    "scrolled": true
   },
   "outputs": [],
   "source": [
    "directory_df = pd.read_excel('Washington_Education_School_Directory_07_17_2020.xlsx',dtype= 'string')"
   ]
  },
  {
   "cell_type": "code",
   "execution_count": 7,
   "id": "f5350f25-94e3-4cb1-a629-477aa8b31652",
   "metadata": {
    "scrolled": true
   },
   "outputs": [],
   "source": [
    "d_features = ['LEACode', 'SchoolCode','SchoolName', 'City', 'GradeCategory']\n",
    "directory_df = directory_df[d_features]\n",
    "directory_df['ST_SCHID'] = \"WA-\"+ directory_df.LEACode + \"-\" + directory_df.SchoolCode\n",
    "d_features = ['ST_SCHID','GradeCategory','City','SchoolCode']\n",
    "dir_df = directory_df[d_features]"
   ]
  },
  {
   "cell_type": "markdown",
   "id": "7cccff4c-8a40-464c-b1dd-dafdfe11d4bf",
   "metadata": {},
   "source": [
    "## Student Growth\n",
    "https://data.wa.gov/Education/Report-Card-Growth-for-2018-19/uj4q-wr8d"
   ]
  },
  {
   "cell_type": "code",
   "execution_count": 8,
   "id": "4725b080-95e9-4084-96cf-c1ea6b2b85b0",
   "metadata": {
    "scrolled": true
   },
   "outputs": [],
   "source": [
    "growth_df = pd.read_csv(\"Report_Card_Growth_for_2018-19.csv\", dtype ='string')"
   ]
  },
  {
   "cell_type": "code",
   "execution_count": 9,
   "id": "b75e4338-0ca8-4e5d-8db8-2d65c3ae3626",
   "metadata": {
    "scrolled": true
   },
   "outputs": [],
   "source": [
    "growth_features = ['County','SchoolCode','SchoolName','CurrentSchoolType', 'GradeLevel' , 'PercentHighGrowth', 'PercentLowGrowth']\n",
    "growth_df = growth_df[growth_features]\n",
    "growth_df = growth_df[~growth_df.SchoolName.str.contains('State Total')]\n",
    "growth_df = growth_df[growth_df.GradeLevel.str.contains('1|2|3|4|5')]\n",
    "growth_df.PercentHighGrowth = pd.to_numeric(growth_df.PercentHighGrowth)\n",
    "growth_df.PercentLowGrowth = pd.to_numeric(growth_df.PercentLowGrowth)\n",
    "growth_df.dropna(inplace = True)\n",
    "\n",
    "## Isolate and merge the median p_high and p_low values from each school\n",
    "df_high = growth_df.groupby(['SchoolCode'])['PercentHighGrowth'].median()\n",
    "df_low = growth_df.groupby(['SchoolCode'])['PercentLowGrowth'].median()\n",
    "df_m = pd.merge(df_high,df_low, on='SchoolCode', how='inner')\n",
    "\n",
    "## Create the 'Overall' feature\n",
    "df_m['Test_Growth'] = df_m.PercentHighGrowth - df_m.PercentLowGrowth\n",
    "\n",
    "## Merge with df_m to grab median and overall values\n",
    "growth_df = pd.merge(df_m,growth_df, on='SchoolCode', how='inner')\n",
    "\n",
    "## Merge with directory for standardized school code\n",
    "growth_df = pd.merge(growth_df,dir_df,on='SchoolCode', how = 'inner')\n",
    "\n",
    "## Take First\n",
    "growth_df = growth_df.groupby(['ST_SCHID']).first().reset_index()\n",
    "\n",
    "## Reduce Features\n",
    "growth_features = ['SchoolName','County','Test_Growth','ST_SCHID']\n",
    "growth_df = growth_df[growth_features]\n",
    "growth_df.sort_values(by = ['Test_Growth'], ascending = False,  inplace=True)\n"
   ]
  },
  {
   "cell_type": "markdown",
   "id": "6a4a8ed6-222c-455b-8e58-e9829155171f",
   "metadata": {
    "tags": []
   },
   "source": [
    "## Student Test Scores\n",
    "https://www2.ed.gov/about/inits/ed/edfacts/data-files/index.html\n"
   ]
  },
  {
   "cell_type": "code",
   "execution_count": 10,
   "id": "dc599da4-0afb-4df0-8426-0bbfdef771cb",
   "metadata": {
    "scrolled": true
   },
   "outputs": [],
   "source": [
    "state = 'WASHINGTON'\n",
    "student_type = 'ALL'\n",
    "grade = '00'"
   ]
  },
  {
   "cell_type": "markdown",
   "id": "cbab4c2c-bbce-4001-a3e8-79ff444cdcdf",
   "metadata": {},
   "source": [
    "#### Math"
   ]
  },
  {
   "cell_type": "code",
   "execution_count": 11,
   "id": "2bce5fe7-3988-4e97-aac6-baef72a2cd82",
   "metadata": {
    "scrolled": true
   },
   "outputs": [],
   "source": [
    "math_df = pd.read_csv('EDF_SCH_AP_MTH_1819_PUBL.csv', dtype='string')"
   ]
  },
  {
   "cell_type": "code",
   "execution_count": 12,
   "id": "03fa62a9-338f-4e78-ac47-5a8b2ad123aa",
   "metadata": {
    "scrolled": true
   },
   "outputs": [],
   "source": [
    "math_features = ['ST_SCHID', 'PCTPROF']\n",
    "math_df = math_df = math_df[math_df.STNAM.str.contains(state)]\n",
    "math_df = math_df = math_df[math_df.CATEGORY.str.contains(student_type)]\n",
    "math_df = math_df = math_df[math_df.GRADE.str.contains(grade)]\n",
    "math_df.PCTPROF = math_df.PCTPROF.str[-2:] # Slice last two characters\n",
    "\n",
    "math_df.PCTPROF = math_df.PCTPROF.str.replace('PS', '1')\n",
    "math_df.PCTPROF = math_df.PCTPROF.str.replace('E5', '1')\n",
    "math_df.PCTPROF = pd.to_numeric(math_df.PCTPROF)\n",
    "math_df = math_df[math_features]\n",
    "math_df.rename({'PCTPROF' : \"Math_Proficiency\"},axis=1, inplace=True)"
   ]
  },
  {
   "cell_type": "markdown",
   "id": "9bd53f2a-478e-4f49-989e-3de18cd89b1f",
   "metadata": {},
   "source": [
    "#### Reading"
   ]
  },
  {
   "cell_type": "code",
   "execution_count": 13,
   "id": "a527804e-79c0-425f-9998-53591496c014",
   "metadata": {
    "scrolled": true
   },
   "outputs": [],
   "source": [
    "reading_df = pd.read_csv('EDF_SCH_AP_RLA_1819_PUBL.csv', dtype='string')"
   ]
  },
  {
   "cell_type": "code",
   "execution_count": 14,
   "id": "55ebf13a-4539-41cd-8895-ea7b15183576",
   "metadata": {
    "scrolled": true
   },
   "outputs": [],
   "source": [
    "reading_features = ['ST_SCHID', 'PCTPROF']\n",
    "reading_df = reading_df = reading_df[reading_df.STNAM.str.contains(state)]\n",
    "reading_df = reading_df = reading_df[reading_df.CATEGORY.str.contains(student_type)]\n",
    "reading_df = reading_df = reading_df[reading_df.GRADE.str.contains(grade)]\n",
    "reading_df.PCTPROF = reading_df.PCTPROF.str[-2:] # Slice last two characters\n",
    "\n",
    "reading_df.PCTPROF = reading_df.PCTPROF.str.replace('PS', '1')\n",
    "reading_df.PCTPROF = reading_df.PCTPROF.str.replace('E5', '1')\n",
    "reading_df.PCTPROF = pd.to_numeric(reading_df.PCTPROF)\n",
    "reading_df = reading_df[reading_features]\n",
    "reading_df.rename({'PCTPROF' : \"Reading_Proficiency\"},axis=1, inplace=True)"
   ]
  },
  {
   "cell_type": "markdown",
   "id": "584c4d78-b945-4d00-8e15-a5f9940fa312",
   "metadata": {},
   "source": [
    "#### Math/Reading/Growth-Merged"
   ]
  },
  {
   "cell_type": "code",
   "execution_count": 15,
   "id": "5e77354f-95e0-48c4-aaaa-3a47d5c789b9",
   "metadata": {
    "scrolled": true
   },
   "outputs": [],
   "source": [
    "test_scores_df = pd.merge(math_df,reading_df, on='ST_SCHID', how='inner')\n",
    "test_scores_df = pd.merge(dir_df, test_scores_df,on='ST_SCHID', how='inner') # Add directory info\n",
    "test_scores_df = pd.merge(test_scores_df, growth_df, on='ST_SCHID', how='inner') # Add Growth info\n",
    "test_scores_df['Test_Scores'] = (test_scores_df.Math_Proficiency + test_scores_df.Reading_Proficiency) / 2\n"
   ]
  },
  {
   "cell_type": "markdown",
   "id": "b25ee693-7227-4299-bafb-72c4d4975d47",
   "metadata": {},
   "source": [
    "## Crime/Population\n",
    "https://ucr.fbi.gov/crime-in-the-u.s/2019/crime-in-the-u.s.-2019/tables/table-8/table-8-state-cuts/washington.xls"
   ]
  },
  {
   "cell_type": "code",
   "execution_count": 16,
   "id": "774ded35-84df-4ae2-a477-c04f20640ce7",
   "metadata": {
    "scrolled": true
   },
   "outputs": [],
   "source": [
    "crime_df = pd.read_excel(\"washington_crime.xls\",dtype = 'string')"
   ]
  },
  {
   "cell_type": "code",
   "execution_count": 17,
   "id": "eaae1550-440b-4db2-9959-f2e002046963",
   "metadata": {
    "scrolled": true
   },
   "outputs": [],
   "source": [
    "crime_df.columns = crime_df.iloc[3]  ## Move Column Headers Up\n",
    "crime_df = crime_df.iloc[4: , :]  ## Shift Rows Up\n",
    "crime_df.City = crime_df.City.str.upper()\n",
    "crime_df = crime_df.set_index('City') ## Set Index\n",
    "crime_df = crime_df.astype(float) ## Convert Data Types\n",
    "crime_df.rename({'Murder and\\nnonnegligent\\nmanslaughter': 'Murder'},axis=1, inplace=True)\n",
    "\n",
    "population_df = crime_df.Population ## Create Population DF\n",
    "crime_df.drop(['Population'],axis = 1, inplace=True) ## Temporarily drop Population\n",
    "crime_df['total_crime'] = crime_df.sum(axis=1)  ## Sum Values W/out Population \n",
    "crime_df = pd.merge(crime_df,population_df, on='City', how= 'inner') ## Recombine population\n",
    "crime_df['Crime_Per_1000'] = crime_df.total_crime / (crime_df.Population/1000)  ## Create New Feature\n",
    "crime_df.dropna(inplace = True)\n",
    "crime_df.sort_values( by = 'Crime_Per_1000', inplace=True)\n",
    "crime_df.reset_index(inplace=True)\n"
   ]
  },
  {
   "cell_type": "markdown",
   "id": "1a453f6d-9969-49f0-8a2d-ab10ece0d0d1",
   "metadata": {},
   "source": [
    "## Merged/Sorted DataFrames"
   ]
  },
  {
   "cell_type": "code",
   "execution_count": 18,
   "id": "e6e9614c-a8a7-431e-824b-d9c477ae4efb",
   "metadata": {
    "scrolled": true
   },
   "outputs": [],
   "source": [
    "df = test_scores_df\n",
    "df.City = df.City.str.upper()\n",
    "home_df.City = home_df.City.str.upper()\n",
    "\n",
    "## Merge Dataframes Together\n",
    "#df = pd.merge(df,hv_m, on='County', how='inner')\n",
    "df = pd.merge(df,home_df, on='City', how='inner')\n",
    "df = pd.merge(df, income_df, on='County', how='inner')\n",
    "df = pd.merge(df, crime_df, on='City', how ='inner')\n",
    "\n",
    "df.drop('GradeCategory', axis=1, inplace = True, errors = 'ignore')\n",
    "df.dropna(inplace=True)"
   ]
  },
  {
   "cell_type": "markdown",
   "id": "083ff699-e869-40b9-8df2-f64c77821613",
   "metadata": {},
   "source": [
    "# <span style=\"color:blue;\"> Metric Weighting For Final Sort </span>"
   ]
  },
  {
   "cell_type": "code",
   "execution_count": 19,
   "id": "025e8fdf-bcb5-4e3c-9308-e3d3d010796c",
   "metadata": {
    "tags": []
   },
   "outputs": [
    {
     "name": "stdout",
     "output_type": "stream",
     "text": [
      "Click and drag each slider to desired location based on preference towards the given metric.\n",
      "A value of \"0\" will remove the variable as a factor, a value of \"3\" places the variable as most important.\n",
      "\n",
      "Test_Growth:   = The year over year gains within standardized testing results.\n",
      "Test_Scores:   = The combined results from within the standardized reading and math test scores.\n",
      "Investment:    = The home value appreciation of a given city.\n",
      "Income:        = The average household income from within the county that the school is located within.\n",
      "Home_Value:    = The median home value from within the given city.  A higher input value equates to a preference for lower priced homes\n",
      "Crime:         = The total crime as a percent of total population from within the given city.\n",
      "Minimum:       = The minimum school test score to accept from within the results.\n",
      "\n",
      "County:         = A manual text box that can be used to view results at a County level\n",
      "City:           = A manual text box that can be used to view results at a City level\n",
      "\n"
     ]
    },
    {
     "data": {
      "application/vnd.jupyter.widget-view+json": {
       "model_id": "fd561508a6a147d7b59e0a2f5c5097c2",
       "version_major": 2,
       "version_minor": 0
      },
      "text/plain": [
       "interactive(children=(IntSlider(value=1, description='Test_Growth', max=3), IntSlider(value=1, description='Te…"
      ]
     },
     "metadata": {},
     "output_type": "display_data"
    }
   ],
   "source": [
    "\n",
    "df_features = ['SchoolName','City','County','Test_Scores','Test_Growth','median_sale_price',\n",
    "               'median_sale_price_mom','Household_Income','Population','Crime_Per_1000','Combined_Values']\n",
    "\n",
    "## Create a big picture metric\n",
    "scaled_df = df\n",
    "scaled_df[['Test__Growth','Test__Scores', 'median__sale_price_mom','median__sale_price', 'Household__Income', 'Crime__Percent']] = \\\n",
    "scaler.fit_transform(df[['Test_Growth','Test_Scores', 'median_sale_price_mom','median_sale_price', 'Household_Income', 'Crime_Per_1000']])\n",
    "\n",
    "\n",
    "print('Click and drag each slider to desired location based on preference towards the given metric.')\n",
    "print('A value of \"0\" will remove the variable as a factor, a value of \"3\" places the variable as most important.')\n",
    "print('')\n",
    "print ('Test_Growth:   = The year over year gains within standardized testing results.')\n",
    "print ('Test_Scores:   = The combined results from within the standardized reading and math test scores.')\n",
    "print ('Investment:    = The home value appreciation of a given city.')\n",
    "print ('Income:        = The average household income from within the county that the school is located within.')\n",
    "print ('Home_Value:    = The median home value from within the given city.  A higher input value equates to a preference for lower priced homes')\n",
    "print ('Crime:         = The total crime as a percent of total population from within the given city.')\n",
    "print ('Minimum:       = The minimum school test score to accept from within the results.')\n",
    "print('')\n",
    "print('County:         = A manual text box that can be used to view results at a County level')\n",
    "print('City:           = A manual text box that can be used to view results at a City level')\n",
    "print('')\n",
    "\n",
    "@interact\n",
    "def f( Test_Growth = (0,3), Test_Scores=(0,3), Investment = (0,3),Income=(0,3), Home_Price=(0,3), Crime=(0,3), Minimum = (0,95), County = '', City = ''):\n",
    "    \n",
    "    \n",
    "    df['Combined_Values'] = (scaled_df.Test__Growth * Test_Growth) + \\\n",
    "                            (scaled_df.Test__Scores * Test_Scores) + \\\n",
    "                            (scaled_df.median__sale_price_mom * Investment) + \\\n",
    "                            (scaled_df.Household__Income * Income) - \\\n",
    "                            (scaled_df.median__sale_price * Home_Price) - \\\n",
    "                            (scaled_df.Crime__Percent * Crime) \n",
    "    def dataframe(df = df):\n",
    "        d = df[df_features]\n",
    "        return (d)\n",
    "    d = dataframe(df)\n",
    "    d.sort_values(by = 'Combined_Values', ascending = False, inplace = True)\n",
    "    d.reset_index(inplace=True)\n",
    "    \n",
    "    print(\"\")\n",
    "    if County and not City:\n",
    "        d = d[(d['Test_Scores'] >=Minimum) & (d['County'].str.lower() == County.lower())]\n",
    "    elif City and not County:\n",
    "        d = d[(d['Test_Scores'] >=Minimum) & (d['City'].str.lower() == City.lower())]\n",
    "    elif County and City:\n",
    "        d = d[(d['Test_Scores'] >=Minimum) & (d['County'].str.lower() == County.lower()) & (d['City'].str.lower() == City.lower())]\n",
    "    else:\n",
    "        d = d[(d['Test_Scores'] >=Minimum)]    \n",
    "    return (d)\n",
    "    \n",
    " "
   ]
  },
  {
   "cell_type": "markdown",
   "id": "c604fe63-a270-488f-978c-9be5963c9f14",
   "metadata": {},
   "source": [
    "### Housing Metrics"
   ]
  },
  {
   "cell_type": "code",
   "execution_count": 20,
   "id": "08d58c71-32a0-4d98-a4ee-9ab8a64e0ec5",
   "metadata": {},
   "outputs": [
    {
     "data": {
      "application/vnd.jupyter.widget-view+json": {
       "model_id": "0e56361a9c0b47c898aede9a38463d57",
       "version_major": 2,
       "version_minor": 0
      },
      "text/plain": [
       "interactive(children=(Text(value='', description='City'), Checkbox(value=False, description='Show_All'), Outpu…"
      ]
     },
     "metadata": {},
     "output_type": "display_data"
    }
   ],
   "source": [
    "@interact\n",
    "def f(City = '',Show_All = False, ):   \n",
    "    d = home_df\n",
    "    if City:\n",
    "        d =(d.loc[d['City'].str.lower() == City.lower()])\n",
    "    elif Show_All == True:\n",
    "        d = d\n",
    "    else:\n",
    "        d = \"Select Show_All or an individual City name to see more data\"\n",
    "    return (d)"
   ]
  },
  {
   "cell_type": "markdown",
   "id": "75980f98-0052-4ed3-80e6-2ba71de24684",
   "metadata": {},
   "source": [
    "### Crime Metrics"
   ]
  },
  {
   "cell_type": "code",
   "execution_count": 21,
   "id": "6be7d3e0-ae3b-4a28-9a6e-af7d99afe947",
   "metadata": {},
   "outputs": [
    {
     "data": {
      "application/vnd.jupyter.widget-view+json": {
       "model_id": "5b3cc426caea46a3bf137dc4cb2f8aa5",
       "version_major": 2,
       "version_minor": 0
      },
      "text/plain": [
       "interactive(children=(Text(value='', description='City'), Checkbox(value=False, description='Show_All'), Outpu…"
      ]
     },
     "metadata": {},
     "output_type": "display_data"
    }
   ],
   "source": [
    "@interact\n",
    "def f(City = '',Show_All = False, ):   \n",
    "    d = crime_df\n",
    "    if City:\n",
    "        d =(d.loc[d['City'].str.lower() == City.lower()])\n",
    "    elif Show_All == True:\n",
    "        d = d\n",
    "    else:\n",
    "        d = \"Select Show_All or an individual City name to see more data\"\n",
    "    return (d)"
   ]
  },
  {
   "cell_type": "markdown",
   "id": "4ff48e17-9ad1-4579-89d7-69557f2b3429",
   "metadata": {},
   "source": [
    "### Student Test Score Metrics"
   ]
  },
  {
   "cell_type": "code",
   "execution_count": 22,
   "id": "f74f17b3-91d3-4803-8fbf-b6839b0a1e7b",
   "metadata": {},
   "outputs": [
    {
     "data": {
      "application/vnd.jupyter.widget-view+json": {
       "model_id": "9558cc8c68a648019906eac2840ccc9f",
       "version_major": 2,
       "version_minor": 0
      },
      "text/plain": [
       "interactive(children=(Text(value='', description='City'), Checkbox(value=False, description='Show_All'), Outpu…"
      ]
     },
     "metadata": {},
     "output_type": "display_data"
    }
   ],
   "source": [
    "@interact\n",
    "def f(City = '',Show_All = False, ):   \n",
    "    d = test_scores_df\n",
    "    d.sort_values(by = 'Test_Scores',ascending = False, inplace=True)\n",
    "    #d.reset_index(inplace=True)\n",
    "    if City:\n",
    "        d =(d.loc[d['City'].str.lower() == City.lower()])\n",
    "    elif Show_All == True:\n",
    "        d=d\n",
    "    else:\n",
    "        d = \"Select Show_All or an individual City name to see more data\"\n",
    "    return (d)"
   ]
  },
  {
   "cell_type": "code",
   "execution_count": null,
   "id": "e7eec12b-5820-4783-b258-65ca77419235",
   "metadata": {},
   "outputs": [],
   "source": []
  }
 ],
 "metadata": {
  "kernelspec": {
   "display_name": "Python 3 (ipykernel)",
   "language": "python",
   "name": "python3"
  },
  "language_info": {
   "codemirror_mode": {
    "name": "ipython",
    "version": 3
   },
   "file_extension": ".py",
   "mimetype": "text/x-python",
   "name": "python",
   "nbconvert_exporter": "python",
   "pygments_lexer": "ipython3",
   "version": "3.9.7"
  }
 },
 "nbformat": 4,
 "nbformat_minor": 5
}
